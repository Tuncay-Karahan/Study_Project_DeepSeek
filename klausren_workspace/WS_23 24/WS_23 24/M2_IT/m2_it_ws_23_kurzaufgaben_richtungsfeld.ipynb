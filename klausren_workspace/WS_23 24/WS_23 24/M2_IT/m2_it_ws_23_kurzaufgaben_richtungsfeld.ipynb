{
 "cells": [
  {
   "cell_type": "code",
   "execution_count": null,
   "metadata": {},
   "outputs": [],
   "source": [
    "import numpy as np\n",
    "import matplotlib.pyplot as plt\n",
    "\n",
    "def field(x,y):\n",
    "    X, Y = np.meshgrid(x,y)\n",
    "    dydx = slope(X,Y)\n",
    "    norm = np.sqrt(1.0+dydx**2)\n",
    "    U = np.ones_like(dydx)/norm\n",
    "    V = dydx/norm\n",
    "    return X, Y, U, V\n",
    "\n",
    "def plot(n):\n",
    "    X, Y, U, V = field(x,y)\n",
    "    plt.figure(figsize=(6,6))\n",
    "    plt.quiver(X,Y,U,V,pivot='mid',headwidth=2,headlength=3)\n",
    "    plt.axis('tight')\n",
    "    plt.axis('equal')\n",
    "    plt.axis('square')\n",
    "    plt.savefig('m2_it_ws_23_kurzaufgaben_richtungsfeld_'+str(n)+'.png')\n",
    "    \n",
    "x = np.linspace(-2.0,2.0,8)\n",
    "y = np.linspace(-2.0,2.0,8)"
   ]
  },
  {
   "cell_type": "code",
   "execution_count": null,
   "metadata": {},
   "outputs": [],
   "source": [
    "def slope(x,y):\n",
    "    dydx = x/y\n",
    "    return dydx\n",
    "\n",
    "plot(1)"
   ]
  },
  {
   "cell_type": "code",
   "execution_count": null,
   "metadata": {},
   "outputs": [],
   "source": [
    "def slope(x,y):\n",
    "    dydx = y/x\n",
    "    return dydx\n",
    "\n",
    "plot(2)"
   ]
  },
  {
   "cell_type": "code",
   "execution_count": null,
   "metadata": {},
   "outputs": [],
   "source": [
    "def slope(x,y):\n",
    "    dydx = -x/y\n",
    "    return dydx\n",
    "\n",
    "plot(3)"
   ]
  },
  {
   "cell_type": "code",
   "execution_count": null,
   "metadata": {},
   "outputs": [],
   "source": [
    "def slope(x,y):\n",
    "    dydx = -y/x\n",
    "    return dydx\n",
    "\n",
    "plot(4)"
   ]
  },
  {
   "cell_type": "code",
   "execution_count": null,
   "metadata": {},
   "outputs": [],
   "source": []
  },
  {
   "cell_type": "code",
   "execution_count": null,
   "metadata": {},
   "outputs": [],
   "source": []
  }
 ],
 "metadata": {
  "kernelspec": {
   "display_name": "Python 3 (ipykernel)",
   "language": "python",
   "name": "python3"
  },
  "language_info": {
   "codemirror_mode": {
    "name": "ipython",
    "version": 3
   },
   "file_extension": ".py",
   "mimetype": "text/x-python",
   "name": "python",
   "nbconvert_exporter": "python",
   "pygments_lexer": "ipython3",
   "version": "3.9.7"
  }
 },
 "nbformat": 4,
 "nbformat_minor": 4
}
