{
 "cells": [
  {
   "cell_type": "code",
   "execution_count": 10,
   "metadata": {},
   "outputs": [
    {
     "name": "stdout",
     "output_type": "stream",
     "text": [
      "[10.          9.5         8.975       8.42375     7.8449375   7.23718438\n",
      "  6.59904359  5.92899577  5.22544556  4.48671784  3.71105373  2.89660642\n",
      "  2.04143674  1.14350858  0.20068401 -0.78928179 -1.82874588 -2.92018318\n",
      " -4.06619234 -5.26950195 -6.53297705]\n"
     ]
    }
   ],
   "source": [
    "import numpy as np\n",
    "n = 20\n",
    "x = np.zeros(n+1)\n",
    "x[0] = 10\n",
    "for k in range(n):\n",
    "    x[k+1] = 1.05*x[k] - 1\n",
    "print(x)"
   ]
  },
  {
   "cell_type": "code",
   "execution_count": 13,
   "metadata": {},
   "outputs": [
    {
     "name": "stdout",
     "output_type": "stream",
     "text": [
      "[10.          9.5         8.975       8.42375     7.8449375   7.23718437\n",
      "  6.59904359  5.92899577  5.22544556  4.48671784  3.71105373  2.89660642\n",
      "  2.04143674  1.14350858  0.20068401 -0.78928179 -1.82874588 -2.92018318\n",
      " -4.06619234 -5.26950195 -6.53297705]\n"
     ]
    }
   ],
   "source": [
    "print(20 - 10*1.05**np.arange(n+1))"
   ]
  },
  {
   "cell_type": "code",
   "execution_count": 14,
   "metadata": {},
   "outputs": [
    {
     "name": "stdout",
     "output_type": "stream",
     "text": [
      "14.206699082890461\n"
     ]
    }
   ],
   "source": [
    "print(np.log(2)/np.log(1.05))"
   ]
  },
  {
   "cell_type": "code",
   "execution_count": 15,
   "metadata": {},
   "outputs": [
    {
     "name": "stdout",
     "output_type": "stream",
     "text": [
      "-0.7892817941136704\n"
     ]
    }
   ],
   "source": [
    "print(x[15])"
   ]
  },
  {
   "cell_type": "code",
   "execution_count": null,
   "metadata": {},
   "outputs": [],
   "source": []
  }
 ],
 "metadata": {
  "kernelspec": {
   "display_name": "Python 3 (ipykernel)",
   "language": "python",
   "name": "python3"
  },
  "language_info": {
   "codemirror_mode": {
    "name": "ipython",
    "version": 3
   },
   "file_extension": ".py",
   "mimetype": "text/x-python",
   "name": "python",
   "nbconvert_exporter": "python",
   "pygments_lexer": "ipython3",
   "version": "3.9.7"
  }
 },
 "nbformat": 4,
 "nbformat_minor": 4
}
