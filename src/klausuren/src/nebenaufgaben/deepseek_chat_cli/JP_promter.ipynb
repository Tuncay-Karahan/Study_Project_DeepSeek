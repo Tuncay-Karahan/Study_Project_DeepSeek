{
 "cells": [
  {
   "cell_type": "code",
   "execution_count": null,
   "id": "89f3246e",
   "metadata": {},
   "outputs": [],
   "source": [
    "# Importiere die Funktion aus dem promt_Skript Skript\n",
    "from deepseek_cli_flex import get_model_response\n",
    "\n",
    "# History am Anfang einmalig anlegen\n",
    "history = []\n",
    "\n",
    "# Hilfsfunktion für Jupyter Notebook\n",
    "def ask(prompt):\n",
    "    global history\n",
    "    text, history = get_model_response(prompt, history=history)\n",
    "    return text"
   ]
  },
  {
   "cell_type": "code",
   "execution_count": 8,
   "id": "7dbaee66",
   "metadata": {},
   "outputs": [
    {
     "data": {
      "text/plain": [
       "'Die Summe von 324 und 478 beträgt **802**.'"
      ]
     },
     "execution_count": 8,
     "metadata": {},
     "output_type": "execute_result"
    }
   ],
   "source": [
    "ask(\"Was ist 324 + 478?\")"
   ]
  },
  {
   "cell_type": "code",
   "execution_count": 9,
   "id": "46570885",
   "metadata": {},
   "outputs": [
    {
     "data": {
      "text/plain": [
       "'Die Zahl Pi auf 25 Dezimalstellen ist:\\n\\n**3.1415926535897932384626433**'"
      ]
     },
     "execution_count": 9,
     "metadata": {},
     "output_type": "execute_result"
    }
   ],
   "source": [
    "ask(\"Gebe mir die zahl pi auf 25 nachkommastellen\")"
   ]
  },
  {
   "cell_type": "code",
   "execution_count": null,
   "id": "e8babd0a",
   "metadata": {},
   "outputs": [],
   "source": []
  }
 ],
 "metadata": {
  "kernelspec": {
   "display_name": "Python 3",
   "language": "python",
   "name": "python3"
  },
  "language_info": {
   "codemirror_mode": {
    "name": "ipython",
    "version": 3
   },
   "file_extension": ".py",
   "mimetype": "text/x-python",
   "name": "python",
   "nbconvert_exporter": "python",
   "pygments_lexer": "ipython3",
   "version": "3.11.9"
  }
 },
 "nbformat": 4,
 "nbformat_minor": 5
}
